{
 "cells": [
  {
   "cell_type": "code",
   "execution_count": null,
   "id": "d9add36a-492f-471e-b2a6-627a0895a3b4",
   "metadata": {},
   "outputs": [],
   "source": [
    "import pylab as plt\n",
    "import tqdm as tqdm\n",
    "import pandas as pd\n",
    "from herbie import FastHerbie\n",
    "import cartopy.crs as ccrs\n",
    "import numpy as np\n",
    "import xarray as xr\n",
    "import warnings\n",
    "import pyproj\n",
    "import matplotlib.patches as patches\n",
    "warnings.filterwarnings('ignore')"
   ]
  },
  {
   "cell_type": "markdown",
   "id": "27cb9c88-e83a-4160-bad4-b8901a5c95a9",
   "metadata": {},
   "source": [
    "# Functions defining wind rotations"
   ]
  },
  {
   "cell_type": "code",
   "execution_count": null,
   "id": "dd9744f0-fbbc-47ad-b687-a113196a714d",
   "metadata": {},
   "outputs": [],
   "source": [
    "def to_grid(lon, lat, proj, u, v):\n",
    "    m = proj.get_factors(lon, lat)\n",
    "     \n",
    "    dy_dlam =m.dy_dlam\n",
    "    dx_dlam =m.dx_dlam\n",
    "    \n",
    "    theta = np.arctan2(dy_dlam,dx_dlam)\n",
    "    \n",
    "    return u * np.cos(theta) - v * np.sin(theta), u  * np.sin(theta) + v * np.cos(theta) \n",
    "\n",
    "\n",
    "def to_earth(lon, lat, proj, u, v):\n",
    "    m = proj.get_factors(lon, lat)\n",
    "\n",
    "    dy_dlam =m.dy_dlam\n",
    "    dx_dlam =m.dx_dlam\n",
    "    \n",
    "    theta = -np.arctan2(dy_dlam,dx_dlam)\n",
    "    \n",
    "    return u * np.cos(theta) - v * np.sin(theta), u  * np.sin(theta) + v * np.cos(theta) \n"
   ]
  },
  {
   "cell_type": "markdown",
   "id": "6489583e-6a5e-4105-81d8-ae0386c3e1e0",
   "metadata": {
    "tags": []
   },
   "source": [
    "# Set date ranges for simulation "
   ]
  },
  {
   "cell_type": "code",
   "execution_count": null,
   "id": "ac5c8608-ba64-4169-9299-e9ff7f3e697f",
   "metadata": {},
   "outputs": [],
   "source": [
    "DATES = pd.date_range('2021-03-10 15:00', '2021-03-10 20:00', freq='1H')\n",
    "#DATES = pd.date_range('2021-03-13 00:00', '2021-03-14 05:00', freq='1H')\n",
    "#DATES = pd.date_range('2021-03-10 15:00', '2021-03-10 20:00', freq='1H')\n",
    "\n",
    "of_name = DATES[0].strftime(\"%y-%m-%d-%Hz\") + '_to_' + DATES[-1].strftime(\"%y-%m-%d-%Hz\")\n",
    "\n",
    "\n",
    "\n",
    "width = 100             # Halfwidth of data subset \n",
    "\n",
    "# Domains center\n",
    "#lat_center = 35.2\n",
    "lon_center = -122.70\n",
    "\n",
    "lat_center = 35.00\n",
    "lon_center = -123.71\n",
    "proj_lon_center = -68.0\n",
    "\n",
    "# This just for plotting\n",
    "buoy_lat = 35.71074\n",
    "buoy_lon = -121.84606 \n",
    "\n",
    "domain_Lx = 420 * 1000.\n",
    "domain_Ly = 420 * 1000.\n",
    "domain_nx = 420\n",
    "domain_ny = 420\n",
    "domain_nhalo = 5 \n",
    "domain_dx = domain_Lx/domain_nx\n",
    "domain_dy = domain_Ly/domain_ny\n",
    "\n",
    "print(domain_dx)\n",
    "\n",
    "x = np.linspace(-domain_Lx/2 - domain_nhalo * domain_dx, +domain_Lx/2 + domain_nhalo * domain_dx, domain_nx + 2 * domain_nhalo, endpoint=False)\n",
    "y = np.linspace(-domain_Ly/2 - domain_nhalo * domain_dy, +domain_Ly/2 + domain_nhalo * domain_dy, domain_ny + 2 * domain_nhalo, endpoint=False)\n",
    "\n",
    "\n",
    "domain_x, domain_y = np.meshgrid(x,y)\n",
    "\n",
    "\n",
    "out_file = 'pinacles_in_' + of_name + '.nc'"
   ]
  },
  {
   "cell_type": "markdown",
   "id": "71adc649-dbc8-4f51-abe0-a71ecd3d7bab",
   "metadata": {
    "tags": []
   },
   "source": [
    "# Set-up map projection for HRRR"
   ]
  },
  {
   "cell_type": "code",
   "execution_count": null,
   "id": "2190e9da-6d6b-48c0-b004-fc600627ad4f",
   "metadata": {},
   "outputs": [],
   "source": [
    "projection = ccrs.LambertConformal(central_longitude=-97.5,\n",
    "                             central_latitude=38.5,\n",
    "                             standard_parallels=[38.5],\n",
    "                             globe=ccrs.Globe(ellipse=\"sphere\", semimajor_axis=6370000,  semiminor_axis=6370000))\n",
    "\n",
    "\n",
    "proj = pyproj.Proj(projection)"
   ]
  },
  {
   "cell_type": "markdown",
   "id": "4a45a877-eeab-4427-8a6f-5e9170e16556",
   "metadata": {},
   "source": [
    "# Set-up map projection for PINACLES"
   ]
  },
  {
   "cell_type": "code",
   "execution_count": null,
   "id": "7e9886f3-5cca-48ab-8fd7-2281f3a853e2",
   "metadata": {},
   "outputs": [],
   "source": [
    "#lat_center = 35.2\n",
    "#lon_center = -122.60\n",
    "\n",
    "globe = ccrs.Globe(ellipse='sphere', semimajor_axis=6370000, semiminor_axis=6370000)\n",
    "\n",
    "projection_pinacles = ccrs.LambertConformal(central_longitude=proj_lon_center, central_latitude=lat_center,\n",
    "                            standard_parallels=(35.2, 35.2), globe=globe)\n",
    "\n",
    "pinacles_proj = pyproj.Proj(projection_pinacles)\n",
    "pc = ccrs.PlateCarree()\n",
    "\n"
   ]
  },
  {
   "cell_type": "markdown",
   "id": "2de5ff1a-246d-4ca9-bd01-b619885ba4ca",
   "metadata": {},
   "source": [
    "## Open ZARR file and rename variables consistent with what PINACLES Expects"
   ]
  },
  {
   "cell_type": "code",
   "execution_count": null,
   "id": "2ef76c0f-70d5-4356-93eb-abb456370334",
   "metadata": {},
   "outputs": [],
   "source": [
    "sfc_zarr_file = of_name + '_surface.zarr'\n",
    "levels_zarr_file = of_name + '_levels.zarr'\n",
    "\n",
    "#First for surface variables\n",
    "ds = xr.open_zarr(sfc_zarr_file) \n",
    "# Rename vairables consistent with what \n",
    "ds = ds.assign_coords(longitude=(((ds.longitude + 180) % 360) - 180))\n",
    "ds = ds.rename_vars({\"t\":\"SST\"})\n",
    "ds = ds.rename_vars({\"t2m\":\"T2m\"})\n",
    "ds = ds.rename_vars({\"sh2\":\"QV2m\"})\n",
    "\n",
    "ds = ds.rename_vars({\"u10\":\"U10m\"})\n",
    "ds = ds.rename_vars({\"v10\":\"V10m\"})\n",
    "\n",
    "ds = ds.rename_vars({\"sp\":\"PSFC\"})\n",
    "\n",
    "#Next for native grid\n",
    "ds_p = xr.open_zarr(levels_zarr_file)\n",
    "ds_p = ds_p.assign_coords(longitude=(((ds_p.longitude + 180) % 360) - 180))\n",
    "ds_p = ds_p.rename_vars({\"pres\":\"P\"})\n",
    "ds_p = ds_p.rename_vars({\"t\":\"T\"})\n",
    "ds_p = ds_p.rename_vars({\"gh\":\"Z\"})\n",
    "ds_p = ds_p.rename_vars({\"q\":\"QV\"})\n",
    "ds_p = ds_p.rename_vars({\"clwmr\":\"QC\"})\n",
    "ds_p = ds_p.rename_vars({\"unknown\":\"QI\"})\n",
    "ds_p = ds_p.rename_vars({\"u\":\"U\"})\n",
    "ds_p = ds_p.rename_vars({\"v\":\"V\"})\n"
   ]
  },
  {
   "cell_type": "markdown",
   "id": "3419fa8a-e208-41fd-a026-515c15248730",
   "metadata": {
    "tags": []
   },
   "source": [
    "# Define a function for finding the closest gridpoint to the data subset center and then use it do determine the slices of HRRR data to extract."
   ]
  },
  {
   "cell_type": "code",
   "execution_count": null,
   "id": "9fa633e1-95b9-41d8-a813-053f45f741b0",
   "metadata": {},
   "outputs": [],
   "source": [
    "def get_nearest_point(projection, longitude, latitude):\n",
    "    xa = np.arange(-2.698e+06, 2.696e+06+3000.0, 3000.0)\n",
    "    ya = np.arange(-1.587e+06, 1.587e+06, 3000.0)\n",
    "    \n",
    "    #x, y = projection.transform_point(longitude, latitude, ccrs.PlateCarree())\n",
    "\n",
    "    proj_2 = pyproj.Transformer.from_crs(pc, projection)\n",
    "    \n",
    "    x, y = proj_2.transform(longitude, latitude)\n",
    "    \n",
    "    xi = np.argmin(np.abs(x - xa))\n",
    "    yi = np.argmin(np.abs(y - ya))\n",
    "    \n",
    "    return xi , yi\n",
    "\n",
    "\n",
    "xi_buoy, yi_buoy = get_nearest_point(projection, buoy_lon,  buoy_lat)\n",
    "xi, yi = get_nearest_point(projection, lon_center,  lat_center )\n",
    "xslice = slice(xi - width, xi + width)\n",
    "yslice = slice(yi - width,  yi + width)\n",
    "print(ds.longitude.values[yi, xi], ds.latitude.values[yi, xi])\n",
    "\n",
    "print('Slices of HRRR domain to extract')\n",
    "print(xslice, yslice)"
   ]
  },
  {
   "cell_type": "markdown",
   "id": "453eef72-a65f-426f-8dff-2a2312833d66",
   "metadata": {},
   "source": [
    "# Plot domain and potentially nests"
   ]
  },
  {
   "cell_type": "code",
   "execution_count": null,
   "id": "b6f07617-5cfe-4f44-a424-8f873a86e264",
   "metadata": {},
   "outputs": [],
   "source": [
    "\n",
    "\n",
    "x_center, y_center = projection_pinacles.transform_point(lon_center, lat_center, pc)\n",
    "\n",
    "x_d = domain_x + x_center\n",
    "y_d = domain_y + y_center \n",
    "\n",
    "tran_pinacles_2_pc = pyproj.Transformer.from_crs(projection_pinacles, pc)\n",
    "\n",
    "domain_lon, domain_lat = tran_pinacles_2_pc.transform(x_d, y_d)\n",
    "plt.figure(1, figsize=(10,10))\n",
    "ax = plt.axes(projection=pc)\n",
    "ax.scatter(domain_lon[:, :], domain_lat[:, :],s=0.1)\n",
    "\n",
    "\n",
    "nnest = 150\n",
    "ll_corner = (125,264)\n",
    "ur_corner = (ll_corner[0] + nnest, ll_corner[1] + nnest)\n",
    "lr_corner = (ll_corner[0], ll_corner[1] + nnest)\n",
    "ul_corner = (ll_corner[0] + nnest, ll_corner[1])\n",
    "\n",
    "\n",
    "ax.scatter(domain_lon[ll_corner], domain_lat[ll_corner], c='black')\n",
    "ax.scatter(domain_lon[ur_corner], domain_lat[ur_corner], c='black')\n",
    "ax.scatter(domain_lon[lr_corner], domain_lat[lr_corner], c='black')\n",
    "ax.scatter(domain_lon[ul_corner], domain_lat[ul_corner], c='black')\n",
    "ax.scatter(buoy_lon, buoy_lat)\n",
    "ax.coastlines()\n",
    "gl=ax.gridlines(draw_labels=True)\n",
    "plt.savefig('domain.png', dpi=400)"
   ]
  },
  {
   "cell_type": "markdown",
   "id": "891be136-74f9-4cb6-8c6f-abebd96c6566",
   "metadata": {},
   "source": [
    "# Subset data from zarr in to netCDF file that will be read by PINACLES. \n",
    "We also rotate winds from HRRRs model grid onto PINACLES's model grid. We start with the surface."
   ]
  },
  {
   "cell_type": "code",
   "execution_count": null,
   "id": "fea8c104-d923-4bc4-ac11-80645b927b06",
   "metadata": {},
   "outputs": [],
   "source": [
    "# First prepare the SST\n",
    "sst =ds.SST.isel(x=xslice, y=yslice)\n",
    "sst.to_netcdf(out_file)\n",
    "\n",
    "#land = ds.LAND.isel(x=xslice, y=yslice)\n",
    "#land.to_netcdf(out_file, 'a')\n",
    "\n",
    "t2m = ds.T2m.isel(x=xslice, y=yslice)\n",
    "t2m.to_netcdf(out_file, 'a')\n",
    "\n",
    "qv2m = ds.QV2m.isel(x=xslice, y=yslice)\n",
    "qv2m.to_netcdf(out_file, 'a')\n",
    "\n",
    "u10m = ds.U10m.isel(x=xslice, y=yslice)\n",
    "v10m = ds.V10m.isel(x=xslice, y=yslice)\n",
    "lon = v10m.longitude.values\n",
    "lat = u10m.latitude.values\n",
    "\n",
    "u_grid_i = np.copy(u10m.values)\n",
    "# Rotate wind into PINACLES Projection\n",
    "for ti in tqdm.tqdm(range(u10m.values.shape[0])):\n",
    "\n",
    "    uin = u10m.values[ti,:,:]\n",
    "    vin = v10m.values[ti,:,:]\n",
    "    u_earth, v_earth = to_earth(lon, lat, proj,uin, vin)\n",
    "    u_rot, v_rot = to_grid(lon, lat, pinacles_proj,u_earth, v_earth)  \n",
    "    \n",
    "    u10m.data[ti,:,:]  = u_rot[:,:]\n",
    "    v10m.data[ti,:,:]  = v_rot[:,:] \n",
    "    \n",
    "#print(np.amax(u_grid_i  - u10m.values))\n",
    "u10m.to_netcdf(out_file, 'a')\n",
    "v10m.to_netcdf(out_file, 'a')\n",
    "\n",
    "pres = ds.PSFC.isel(x=xslice, y=yslice)\n",
    "pres.to_netcdf(out_file, 'a')\n"
   ]
  },
  {
   "cell_type": "markdown",
   "id": "6224b90e-af84-437a-b55b-1beb3844e0fe",
   "metadata": {},
   "source": [
    "# Subset data from zarr in to netCDF file that will be read by PINACLES. \n",
    "We also rotate winds from HRRRs model grid onto PINACLES's model grid. Now we do the level data."
   ]
  },
  {
   "cell_type": "code",
   "execution_count": null,
   "id": "61ca6381-4627-4875-9839-0af8f8968d83",
   "metadata": {},
   "outputs": [],
   "source": [
    "p = ds_p.P.isel(x=xslice, y=yslice)\n",
    "p.to_netcdf(out_file, 'a')\n",
    "#p = None\n",
    "\n",
    "t = ds_p.T.isel(x=xslice, y=yslice)\n",
    "t.to_netcdf(out_file, 'a')\n",
    "#t = None\n",
    "\n",
    "z =  ds_p.Z.isel(x=xslice, y=yslice)\n",
    "z.to_netcdf(out_file, 'a')\n",
    "#z = None\n",
    "\n",
    "qv  =  ds_p.QV.isel(x=xslice, y=yslice)\n",
    "qv.to_netcdf(out_file, 'a')\n",
    "#qv = None\n",
    "\n",
    "qc = ds_p.QC.isel(x=xslice, y=yslice)\n",
    "qc.to_netcdf(out_file, 'a')\n",
    "#qc = None\n",
    "\n",
    "qi =  ds_p.QI.isel(x=xslice, y=yslice)\n",
    "qi.to_netcdf(out_file, 'a')\n",
    "#qi = None\n",
    "\n",
    "u =  ds_p.U.isel(x=xslice, y=yslice)\n",
    "v =  ds_p.V.isel(x=xslice, y=yslice)\n",
    "\n",
    "\n",
    "lon = u.longitude.values\n",
    "lat = u.latitude.values\n",
    "\n",
    "#u_pc = np.empty_like(u.values)\n",
    "#v_pc = np.empty_like(v.values)\n",
    "\n",
    "# Rotate winds to PINACLES Projeciton \n",
    "for ti in tqdm.tqdm(range(u.values.shape[0])):\n",
    "    for ki in range(u.values.shape[1]):\n",
    "        u_earth, v_earth = to_earth(lon, lat, proj,u.values[ti, ki,:,:],v.values[ti, ki,:,:])\n",
    "        #u_pc[ti, ki,:,:],v_pc[ti, ki,:,:] = uv_to_earth_cone(lon, -97.5, 38.5, 38.5,u.values[ti, ki,:,:],v.values[ti, ki,:,:])\n",
    "        u.data[ti, ki,:,:],v.data[ti, ki,:,:] = to_grid(lon, lat, pinacles_proj,u_earth, v_earth)\n",
    "        #u.data[ti, ki,:,:],.datav[ti, ki,:,:] = to_grid(lon, -68, 35.2, 35.2,u_pc[ti, ki,:,:],v_pc[ti, ki,:,:])\n",
    "u.to_netcdf(out_file, 'a')  \n",
    "v.to_netcdf(out_file, 'a')\n"
   ]
  },
  {
   "cell_type": "code",
   "execution_count": null,
   "id": "8cc33a29-6be9-49b3-921f-f33ffc9a55b8",
   "metadata": {},
   "outputs": [],
   "source": [
    "x_center, y_center = projection_pinacles.transform_point(lon_center, lat_center, pc)\n",
    "\n",
    "x_d = domain_x + x_center\n",
    "y_d = domain_y + y_center \n",
    "\n",
    "tran_pinacles_2_pc = pyproj.Transformer.from_crs(projection_pinacles, pc)\n",
    "\n",
    "domain_lon, domain_lat = tran_pinacles_2_pc.transform(x_d, y_d)\n",
    "plt.figure(1, figsize=(10,10))\n",
    "ax = plt.axes(projection=pc)\n",
    "ax.contourf(lon, lat, qv2m[0,:,:], levels=25)\n",
    "ax.scatter(domain_lon[:, :], domain_lat[:, :],s=0.01)\n",
    "\n",
    "\n",
    "nnest = 150\n",
    "ll_corner = (125,264)\n",
    "ur_corner = (ll_corner[0] + nnest, ll_corner[1] + nnest)\n",
    "lr_corner = (ll_corner[0], ll_corner[1] + nnest)\n",
    "ul_corner = (ll_corner[0] + nnest, ll_corner[1])\n",
    "\n",
    "\n",
    "ax.scatter(domain_lon[ll_corner], domain_lat[ll_corner], c='black', s= 0.5)\n",
    "ax.scatter(domain_lon[ur_corner], domain_lat[ur_corner], c='black', s= 0.5)\n",
    "ax.scatter(domain_lon[lr_corner], domain_lat[lr_corner], c='black', s= 0.5)\n",
    "ax.scatter(domain_lon[ul_corner], domain_lat[ul_corner], c='black', s= 0.5)\n",
    "ax.scatter(buoy_lon, buoy_lat, s=0.5)\n",
    "ax.coastlines()\n",
    "gl=ax.gridlines(draw_labels=True)\n",
    "plt.savefig('domain.png', dpi=800)\n",
    "\n",
    "\n",
    "print(lr_corner)"
   ]
  },
  {
   "cell_type": "code",
   "execution_count": null,
   "id": "1da3f97b-e1b2-4910-b489-14e86d69ea0e",
   "metadata": {},
   "outputs": [],
   "source": [
    "print(u.shape)"
   ]
  },
  {
   "cell_type": "code",
   "execution_count": null,
   "id": "a3d68565-2a8d-40c7-95ff-15e78b65b736",
   "metadata": {},
   "outputs": [],
   "source": [
    "print(lon.shape)"
   ]
  },
  {
   "cell_type": "code",
   "execution_count": null,
   "id": "b2111daa-99b4-4ec8-a8d5-73d2d8e72900",
   "metadata": {},
   "outputs": [],
   "source": [
    "plt.quiver(lon[::10,::10], lat[::10,::10], u.values[0,0,::10,::10], v.values[0,0,::10,::10])"
   ]
  },
  {
   "cell_type": "code",
   "execution_count": null,
   "id": "a7e243ed-61b4-4bf0-b429-020b95769055",
   "metadata": {},
   "outputs": [],
   "source": []
  }
 ],
 "metadata": {
  "kernelspec": {
   "display_name": "Python 3 (ipykernel)",
   "language": "python",
   "name": "python3"
  },
  "language_info": {
   "codemirror_mode": {
    "name": "ipython",
    "version": 3
   },
   "file_extension": ".py",
   "mimetype": "text/x-python",
   "name": "python",
   "nbconvert_exporter": "python",
   "pygments_lexer": "ipython3",
   "version": "3.9.17"
  }
 },
 "nbformat": 4,
 "nbformat_minor": 5
}
