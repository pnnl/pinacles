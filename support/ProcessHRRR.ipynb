{
 "cells": [
  {
   "cell_type": "code",
   "execution_count": null,
   "id": "d9add36a-492f-471e-b2a6-627a0895a3b4",
   "metadata": {},
   "outputs": [],
   "source": [
    "import pylab as plt\n",
    "import tqdm as tqdm\n",
    "import pandas as pd\n",
    "from herbie import FastHerbie\n",
    "import cartopy.crs as ccrs\n",
    "import numpy as np\n",
    "import xarray as xr"
   ]
  },
  {
   "cell_type": "markdown",
   "id": "6489583e-6a5e-4105-81d8-ae0386c3e1e0",
   "metadata": {
    "tags": []
   },
   "source": [
    "# Set date ranges for simulation "
   ]
  },
  {
   "cell_type": "code",
   "execution_count": null,
   "id": "ac5c8608-ba64-4169-9299-e9ff7f3e697f",
   "metadata": {},
   "outputs": [],
   "source": [
    "#DATES = pd.date_range('2021-07-10 00:00', '2021-07-11 00:00', freq='1H')\n",
    "#DATES = pd.date_range('2021-07-10 00:00', '2021-07-11 00:00', freq='1H')\n",
    "DATES = pd.date_range('2021-03-14 00:00', '2021-03-15 00:00', freq='1H')\n",
    "#DATES = pd.date_range('2021-01-29 00:00', '2021-01-31 00:00', freq='1H')\n",
    "#DATES = pd.date_range('2021-01-29 12:00', '2021-01-30 00:00', freq='1H')\n",
    "width = 24              # Halfwidth of data subset\n",
    "lon_center = -124.833  # Longitude center point\n",
    "lat_center = 41.13476  # Latitude center point\n",
    "\n",
    "buoy_lat = 40.964533\n",
    "buoy_lon = -124.593883\n",
    "\n",
    "#lon_center = -70.5748\n",
    "#lat_center = 40.1760\n",
    "\n",
    "out_file = 'test_out_frontal.nc'"
   ]
  },
  {
   "cell_type": "markdown",
   "id": "71adc649-dbc8-4f51-abe0-a71ecd3d7bab",
   "metadata": {
    "tags": []
   },
   "source": [
    "# Set-up map projection for HRRRR"
   ]
  },
  {
   "cell_type": "code",
   "execution_count": null,
   "id": "65e66b61-f818-4dba-903b-dad0eb4b376e",
   "metadata": {},
   "outputs": [],
   "source": [
    "projection = ccrs.LambertConformal(central_longitude=-97.5,\n",
    "                             central_latitude=38.5,\n",
    "                             standard_parallels=[38.5],\n",
    "                             globe=ccrs.Globe(ellipse=\"sphere\"))"
   ]
  },
  {
   "cell_type": "markdown",
   "id": "4a45a877-eeab-4427-8a6f-5e9170e16556",
   "metadata": {},
   "source": [
    "# Set-up map projection for HRRRR"
   ]
  },
  {
   "cell_type": "code",
   "execution_count": null,
   "id": "7e9886f3-5cca-48ab-8fd7-2281f3a853e2",
   "metadata": {},
   "outputs": [],
   "source": [
    "projection_pinacles = ccrs.LambertConformal(central_longitude= lon_center,\n",
    "                             central_latitude=lat_center,\n",
    "                             standard_parallels=[27.0,47.0],\n",
    "                             globe=ccrs.Globe(ellipse=\"sphere\"))"
   ]
  },
  {
   "cell_type": "markdown",
   "id": "0c941353-7539-48ee-a0ac-d439af48d5ec",
   "metadata": {},
   "source": [
    "# Instantiate Herbie Classes"
   ]
  },
  {
   "cell_type": "code",
   "execution_count": null,
   "id": "d48d8930-09aa-4814-b1d6-0da62eaf65c7",
   "metadata": {},
   "outputs": [],
   "source": [
    "H = FastHerbie(DATES, model=\"hrrr\", product=\"sfc\", save_dir='/Users/pres026/Research/Datasets/hrrr_data/hrrr')\n",
    "Hnat = FastHerbie(DATES, model=\"hrrr\", product=\"nat\", save_dir='/Users/pres026/Research/Datasets/hrrr_data/hrrr')"
   ]
  },
  {
   "cell_type": "markdown",
   "id": "bf9c3fcf-870b-4c48-8b98-ce0c95d1a64a",
   "metadata": {
    "tags": []
   },
   "source": [
    "# Download Surface Data"
   ]
  },
  {
   "cell_type": "code",
   "execution_count": null,
   "id": "489d01e5-1756-4dba-b4a1-0a10b4601e07",
   "metadata": {},
   "outputs": [],
   "source": [
    "surface_name = {} \n",
    "surface_name['VIL'] = \"VIL\"\n",
    "surface_name['SST'] = \":TMP:surface\"  \n",
    "surface_name['T2m'] =\"TMP:2 m\"\n",
    "surface_name['QV2m'] =\"SPFH:2 m\"\n",
    "surface_name['U80'] = \"UGRD:80 m\"\n",
    "surface_name['V80'] = \"VGRD:80 m\"\n",
    "surface_name['U10'] = \"UGRD:10 m\"\n",
    "surface_name['V10'] = \"VGRD:10 m\"\n",
    "surface_name['PSFC'] = \"PRES:surface\"\n",
    "surface_name['LHTFL'] = \"LHTFL:surface\"\n",
    "surface_name['SHTFL'] = \"SHTFL:surface\"\n",
    "surface_name['DSWRF'] = \"DSWRF:surface\"\n",
    "surface_name['LCDC'] = \"LCDC\"\n",
    "surface_name['WIND'] = \"WIND\"\n",
    "surface_name['HPBL'] = \"HPBL\"\n",
    "surface_name['LAND'] = \"LAND\"\n",
    "surface_name['DLWRF'] = \"DLWRF:surface\"\n",
    "for name, regex in tqdm.tqdm(surface_name.items()):\n",
    "    H.download(regex)\n",
    "    "
   ]
  },
  {
   "cell_type": "code",
   "execution_count": null,
   "id": "b9fb0016-4a3e-47e9-b2ba-34513f23cbf1",
   "metadata": {},
   "outputs": [],
   "source": [
    "t2m = H.xarray(surface_name['T2m'])"
   ]
  },
  {
   "cell_type": "markdown",
   "id": "ee3c6d17-fb7e-4471-98f9-c16eb5897000",
   "metadata": {},
   "source": [
    "# Download Pressure level Data"
   ]
  },
  {
   "cell_type": "code",
   "execution_count": null,
   "id": "54752423-7e95-4d10-a0ff-0cc2d5cb364b",
   "metadata": {},
   "outputs": [],
   "source": [
    "level_name = {} \n",
    "level_name[\"U\"] = \":(?:U)GRD:[0-9]+ hybrid\"\n",
    "level_name[\"V\"] = \":(?:V)GRD:[0-9]+ hybrid\"\n",
    "level_name[\"P\"] = \":(?:PRES):[0-9]+ hybrid\"\n",
    "level_name[\"T\"] = \":(?:TMP):[0-9]+ hybrid\"\n",
    "level_name[\"QV\"] = \":(?:SPFH):[0-9]+ hybrid\"\n",
    "level_name[\"QC\"] = \":(?:CLMR):[0-9]+ hybrid\"\n",
    "level_name[\"QI\"] = \":(?:CIMIXR):[0-9]+ hybrid\"\n",
    "level_name[\"Z\"] =\":(?:HGT:)[0-9]+ hybrid\"\n",
    "\n",
    "for name, regex in tqdm.tqdm(level_name.items()):\n",
    "    Hnat.download(regex)"
   ]
  },
  {
   "cell_type": "markdown",
   "id": "3419fa8a-e208-41fd-a026-515c15248730",
   "metadata": {
    "tags": []
   },
   "source": [
    "# Define a function for finding the closest gridpoint to the data subset center"
   ]
  },
  {
   "cell_type": "code",
   "execution_count": null,
   "id": "9fa633e1-95b9-41d8-a813-053f45f741b0",
   "metadata": {},
   "outputs": [],
   "source": [
    "def get_nearest_point(projection, longitude, latitude):\n",
    "    xa = np.arange(-2.698e+06, 2.696e+06+3000.0, 3000.0)\n",
    "    ya = np.arange(-1.587e+06, 1.587e+06, 3000.0)\n",
    "    \n",
    "    x, y = projection.transform_point(longitude, latitude, ccrs.PlateCarree())\n",
    "\n",
    "    print(longitude, latitude, x, y)\n",
    "    \n",
    "    xi = np.argmin(np.abs(x - xa))\n",
    "    yi = np.argmin(np.abs(y - ya))\n",
    "    \n",
    "    return xi , yi\n",
    "sst =  H.xarray(surface_name['SST'])\n",
    "sst = sst.assign_coords(longitude=(((sst.longitude + 180) % 360) - 180))\n",
    "\n",
    "xi_buoy, yi_buoy = get_nearest_point(projection, buoy_lon,  buoy_lat)\n",
    "print(xi_buoy, yi_buoy)\n",
    "\n",
    "xi, yi = get_nearest_point(projection, lon_center,  lat_center )\n",
    "xslice = slice(xi - width, xi + width)\n",
    "yslice = slice(yi - width,  yi + width)\n",
    "print(sst.longitude.values[yi, xi], sst.latitude.values[yi, xi])"
   ]
  },
  {
   "cell_type": "markdown",
   "id": "891be136-74f9-4cb6-8c6f-abebd96c6566",
   "metadata": {},
   "source": [
    "# Beging processing full HRRR subdomains in to new output xarray Dataset"
   ]
  },
  {
   "cell_type": "code",
   "execution_count": null,
   "id": "fea8c104-d923-4bc4-ac11-80645b927b06",
   "metadata": {},
   "outputs": [],
   "source": [
    "\n",
    "# First prepare the SST\n",
    "sst = H.xarray(surface_name['SST'])\n",
    "sst = sst.assign_coords(longitude=(((sst.longitude + 180) % 360) - 180))\n",
    "sst = sst.rename({\"longitude\":\"XLONG\"})\n",
    "sst = sst.rename({\"latitude\":\"XLAT\"})\n",
    "sst = sst.rename_vars({\"t\":\"SST\"})\n",
    "\n",
    "#print('Subset')\n",
    "sst = sst.SST.isel(x=xslice, y=yslice)\n",
    "\n",
    "#print('write')\n",
    "sst.to_netcdf(out_file)\n",
    "\n",
    "sst.close()\n",
    "sst = None\n",
    "#Release resources\n",
    "\n",
    "\n",
    "\n"
   ]
  },
  {
   "cell_type": "code",
   "execution_count": null,
   "id": "cb51e2dd-91ff-4fda-a62e-02eb56fd2c5a",
   "metadata": {},
   "outputs": [],
   "source": [
    "# First prepare the SST\n",
    "\n",
    "t2m = H.xarray(surface_name['T2m'])\n",
    "t2m = t2m.assign_coords(longitude=(((t2m.longitude + 180) % 360) - 180))\n",
    "t2m = t2m.rename({\"longitude\":\"XLONG\"})\n",
    "t2m = t2m.rename({\"latitude\":\"XLAT\"})\n",
    "t2m = t2m.rename_vars({\"t2m\":\"T2m\"})\n",
    "\n",
    "#print('Subset')\n",
    "t2m = t2m.T2m.isel(x=xslice, y=yslice)\n",
    "\n",
    "#print('write')\n",
    "t2m.to_netcdf(out_file, 'a')\n",
    "\n",
    "t2m.close()\n",
    "t2m = None\n",
    "#Release resources"
   ]
  },
  {
   "cell_type": "code",
   "execution_count": null,
   "id": "c3a04eae-380d-491c-869b-8cef4e8fa4e3",
   "metadata": {},
   "outputs": [],
   "source": [
    "qv2m = H.xarray(surface_name['QV2m'])\n",
    "qv2m = qv2m.assign_coords(longitude=(((qv2m.longitude + 180) % 360) - 180))\n",
    "qv2m = qv2m.rename({\"longitude\":\"XLONG\"})\n",
    "qv2m = qv2m.rename({\"latitude\":\"XLAT\"})\n",
    "qv2m = qv2m.rename_vars({\"sh2\":\"QV2m\"})\n",
    "\n",
    "#print('Subset')\n",
    "qv2m = qv2m.QV2m.isel(x=xslice, y=yslice)\n",
    "\n",
    "#print('write')\n",
    "qv2m.to_netcdf(out_file, 'a')\n",
    "\n",
    "qv2m.close()\n",
    "qv2m = None"
   ]
  },
  {
   "cell_type": "code",
   "execution_count": null,
   "id": "0db14f6f-68ed-47bf-b653-67b6234a46ce",
   "metadata": {},
   "outputs": [],
   "source": [
    "u10m = H.xarray(surface_name['U10'])\n",
    "u10m = u10m.assign_coords(longitude=(((u10m.longitude + 180) % 360) - 180))\n",
    "u10m = u10m.rename({\"longitude\":\"XLONG\"})\n",
    "u10m = u10m.rename({\"latitude\":\"XLAT\"})\n",
    "u10m = u10m.rename_vars({\"u10\":\"U10m\"})\n",
    "u10m = u10m.U10m.isel(x=xslice, y=yslice)\n",
    "\n",
    "v10m = H.xarray(surface_name['V10'])\n",
    "v10m = v10m.assign_coords(longitude=(((v10m.longitude + 180) % 360) - 180))\n",
    "v10m = v10m.rename({\"longitude\":\"XLONG\"})\n",
    "v10m = v10m.rename({\"latitude\":\"XLAT\"})\n",
    "v10m = v10m.rename_vars({\"v10\":\"V10m\"})\n",
    "v10m = v10m.V10m.isel(x=xslice, y=yslice)\n",
    "\n",
    "\n",
    "lon = v10m.XLONG.values\n",
    "lat = u10m.XLAT.values\n",
    "\n",
    "for ti in tqdm.tqdm(range(u10m.values.shape[0])):\n",
    "    u10m.values[ti, :,:],v10m.values[ti, :,:] = projection_pinacles.transform_vectors(projection,lon, lat,u10m.values[ti,:,:],v10m.values[ti,:,:])\n",
    "\n",
    "#print('write')\n",
    "u10m.to_netcdf(out_file, 'a')\n",
    "v10m.to_netcdf(out_file, 'a')\n",
    "u10m.close()\n",
    "u10m = None\n",
    "\n",
    "v10m.close()\n",
    "v10m = None"
   ]
  },
  {
   "cell_type": "code",
   "execution_count": null,
   "id": "79214883-7b22-421f-9f84-c96c79a5c896",
   "metadata": {},
   "outputs": [],
   "source": [
    "# Now prepare the surface pressure\n",
    "pres = H.xarray(surface_name['PSFC'])\n",
    "pres = pres.assign_coords(longitude=(((pres.longitude + 180) % 360) - 180))\n",
    "pres = pres.rename({\"longitude\":\"XLONG\"})\n",
    "pres = pres.rename({\"latitude\":\"XLAT\"})\n",
    "pres = pres.rename_vars({\"sp\":\"PSFC\"})\n",
    "\n",
    "pres = pres.PSFC.isel(x=xslice, y=yslice)\n",
    "pres.to_netcdf(out_file, 'a')\n",
    "\n",
    "\n",
    "#out_ds['PSFC'] =  pres.PSFC.isel(x=xslice, y=yslice, drop=True)\n",
    "pres.close()  \n",
    "pres = None"
   ]
  },
  {
   "cell_type": "code",
   "execution_count": null,
   "id": "61ca6381-4627-4875-9839-0af8f8968d83",
   "metadata": {},
   "outputs": [],
   "source": [
    "# Now prepare the pressure levels\n",
    "print('Read')\n",
    "p =  Hnat.xarray(level_name['P']) \n",
    "p = p.assign_coords(longitude=(((p.longitude + 180) % 360) - 180))\n",
    "p = p.rename({\"longitude\":\"LONG\"})\n",
    "p = p.rename({\"latitude\":\"LAT\"})\n",
    "p = p.rename_vars({\"pres\":\"P\"})\n",
    "print('Subset')\n",
    "p = p.P.isel(x=xslice, y=yslice)\n",
    "\n",
    "print('Write')\n",
    "p.to_netcdf(out_file, 'a')\n",
    "p.close()\n",
    "p = None\n",
    "\n"
   ]
  },
  {
   "cell_type": "code",
   "execution_count": null,
   "id": "2076c19f-2ee0-4453-b5d5-304714076e16",
   "metadata": {},
   "outputs": [],
   "source": [
    "# Now prepare the pressure levels\n",
    "t =  Hnat.xarray(level_name['T']) \n",
    "t = t.assign_coords(longitude=(((t.longitude + 180) % 360) - 180))\n",
    "t = t.rename({\"longitude\":\"LONG\"})\n",
    "t = t.rename({\"latitude\":\"LAT\"})\n",
    "t = t.rename_vars({\"t\":\"T\"})\n",
    "t =  t.T.isel(x=xslice, y=yslice)\n",
    "t.to_netcdf(out_file, 'a')\n",
    "t.close()\n",
    "t = None "
   ]
  },
  {
   "cell_type": "code",
   "execution_count": null,
   "id": "5ce2da2d-82ac-4ab6-93c2-40eec618837f",
   "metadata": {},
   "outputs": [],
   "source": [
    "# Now prepare the pressure levels\n",
    "z =  Hnat.xarray(level_name['Z']) \n",
    "z = z.assign_coords(longitude=(((z.longitude + 180) % 360) - 180))\n",
    "z = z.rename({\"longitude\":\"LONG\"})\n",
    "z = z.rename({\"latitude\":\"LAT\"})\n",
    "z = z.rename_vars({\"gh\":\"Z\"})\n",
    "z =  z.Z.isel(x=xslice, y=yslice)\n",
    "z.to_netcdf(out_file, 'a')\n",
    "z.close()\n",
    "z = None"
   ]
  },
  {
   "cell_type": "code",
   "execution_count": null,
   "id": "103802dd-85e5-4966-943f-43ece633a0eb",
   "metadata": {},
   "outputs": [],
   "source": [
    "qv =  Hnat.xarray(level_name['QV'])\n",
    "qv = qv.assign_coords(longitude=(((qv.longitude + 180) % 360) - 180))\n",
    "qv = qv.rename({\"longitude\":\"LONG\"})\n",
    "qv = qv.rename({\"latitude\":\"LAT\"})\n",
    "qv = qv.rename_vars({\"q\":\"QV\"})\n",
    "qv  =  qv.QV.isel(x=xslice, y=yslice)\n",
    "qv.to_netcdf(out_file, 'a')\n",
    "qv.close()\n",
    "qv = None"
   ]
  },
  {
   "cell_type": "code",
   "execution_count": null,
   "id": "af7d2957-93d9-4bfb-aff4-53f7fd4b83bb",
   "metadata": {},
   "outputs": [],
   "source": [
    "# Prepare the water vapor mixing ratio\n",
    "qc =  Hnat.xarray(level_name['QC'])\n",
    "qc = qc.assign_coords(longitude=(((qc.longitude + 180) % 360) - 180))\n",
    "qc = qc.rename({\"longitude\":\"LONG\"})\n",
    "qc = qc.rename({\"latitude\":\"LAT\"})\n",
    "qc = qc.rename_vars({\"clwmr\":\"QC\"})\n",
    "qc = qc.QC.isel(x=xslice, y=yslice)\n",
    "qc.to_netcdf(out_file, 'a')\n",
    "qc.close()\n",
    "qc = None"
   ]
  },
  {
   "cell_type": "code",
   "execution_count": null,
   "id": "28986b0c-900f-4528-b0b7-1cf13cb36048",
   "metadata": {},
   "outputs": [],
   "source": [
    "qi =  Hnat.xarray(level_name['QI'])\n",
    "qi = qi.assign_coords(longitude=(((qi.longitude + 180) % 360) - 180))\n",
    "qi = qi.rename({\"longitude\":\"LONG\"})\n",
    "qi = qi.rename({\"latitude\":\"LAT\"})\n",
    "qi = qi.rename_vars({\"unknown\":\"QI\"})\n",
    "qi =  qi.QI.isel(x=xslice, y=yslice)\n",
    "qi.to_netcdf(out_file, 'a')\n",
    "qi.close()\n",
    "qi = None"
   ]
  },
  {
   "cell_type": "code",
   "execution_count": null,
   "id": "b7963b65-6fc3-49fc-b6ca-25d2d764d17e",
   "metadata": {},
   "outputs": [],
   "source": [
    "u =  Hnat.xarray(level_name['U'])\n",
    "v =  Hnat.xarray(level_name['V'])\n",
    "\n",
    "u = u.assign_coords(longitude=(((u.longitude + 180) % 360) - 180))\n",
    "v = v.assign_coords(longitude=(((v.longitude + 180) % 360) - 180))\n",
    "\n",
    "u = u.rename({\"longitude\":\"LONG_U\"})\n",
    "v = v.rename({\"longitude\":\"LONG_V\"})\n",
    "\n",
    "u = u.rename({\"latitude\":\"LAT_U\"})\n",
    "v = v.rename({\"latitude\":\"LAT_V\"})\n",
    "\n",
    "u = u.rename_vars({\"u\":\"U\"})\n",
    "v = v.rename_vars({\"v\":\"V\"})\n",
    "\n",
    "u =  u.U.isel(x=xslice, y=yslice)\n",
    "v =  v.V.isel(x=xslice, y=yslice)\n",
    "\n",
    "\n",
    "\n",
    "#Rotate the winds \n",
    "lon = u.LONG_U.values\n",
    "lat = u.LAT_U.values\n",
    "for ti in tqdm.tqdm(range(u.values.shape[0])):\n",
    "    for ki in range(u.values.shape[1]):\n",
    "        u.values[ti, ki,:,:],v.values[ti, ki,:,:] = projection_pinacles.transform_vectors(projection,lon, lat,u.values[ti, ki,:,:],v.values[ti, ki,:,:])\n",
    "        print(ki, np.amax(u.values[ti, ki,:,:]), np.amin(u.values[ti, ki,:,:]), np.amax(v.values[ti, ki,:,:]), np.amin(v.values[ti, ki,:,:]))\n",
    "\n",
    "\n",
    "u.to_netcdf(out_file, 'a')\n",
    "u.close()\n",
    "u = None \n",
    "v.to_netcdf(out_file, 'a')\n",
    "v.close()\n",
    "v = None\n",
    "\n",
    "\n",
    "\n"
   ]
  },
  {
   "cell_type": "code",
   "execution_count": null,
   "id": "76fe790f-7a3c-4f09-a11b-38bd16aec5f5",
   "metadata": {},
   "outputs": [],
   "source": [
    "#print(out_ds)"
   ]
  },
  {
   "cell_type": "code",
   "execution_count": null,
   "id": "7eb9bdff-f186-46f2-b9b8-1cd572dc917e",
   "metadata": {},
   "outputs": [],
   "source": [
    "count = 0 \n",
    "for h in tqdm.tqdm(surface_name):\n",
    "    d = H.xarray(surface_name[h]).isel(x = xi_buoy,y = yi_buoy)\n",
    "    \n",
    "    if count == 0:\n",
    "        d.to_netcdf('hrrr_ts.nc')\n",
    "    else:\n",
    "        d.to_netcdf('hrrr_ts.nc', 'a') \n",
    "    count += 1 \n",
    "    "
   ]
  },
  {
   "cell_type": "code",
   "execution_count": null,
   "id": "5595cd1a-352a-4d36-936d-5dc52bdbaf9b",
   "metadata": {},
   "outputs": [],
   "source": []
  },
  {
   "cell_type": "code",
   "execution_count": null,
   "id": "c42bc578-45ec-4e46-985e-58071b3dd39a",
   "metadata": {},
   "outputs": [],
   "source": [
    "import metpy \n"
   ]
  },
  {
   "cell_type": "markdown",
   "id": "853a9389-51ad-49de-965c-d46c9a5186bf",
   "metadata": {},
   "source": []
  }
 ],
 "metadata": {
  "kernelspec": {
   "display_name": "Python 3 (ipykernel)",
   "language": "python",
   "name": "python3"
  },
  "language_info": {
   "codemirror_mode": {
    "name": "ipython",
    "version": 3
   },
   "file_extension": ".py",
   "mimetype": "text/x-python",
   "name": "python",
   "nbconvert_exporter": "python",
   "pygments_lexer": "ipython3",
   "version": "3.9.13"
  }
 },
 "nbformat": 4,
 "nbformat_minor": 5
}
