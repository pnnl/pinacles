{
 "cells": [
  {
   "cell_type": "code",
   "execution_count": null,
   "id": "9fcd69ec-a084-4cdd-b1a5-4774d435ff57",
   "metadata": {},
   "outputs": [],
   "source": [
    "import pylab as plt\n",
    "import tqdm as tqdm\n",
    "import pandas as pd\n",
    "from herbie import FastHerbie\n",
    "import cartopy.crs as ccrs\n",
    "import numpy as np\n",
    "import xarray as xr\n",
    "import warnings\n",
    "warnings.filterwarnings('ignore')\n",
    "import zarr\n",
    "from IPython.utils import io"
   ]
  },
  {
   "cell_type": "code",
   "execution_count": null,
   "id": "36e227e5-c530-4668-bc2f-8f586495cb06",
   "metadata": {},
   "outputs": [],
   "source": [
    "#Specify the time range over which to generate zarr files\n",
    "#DATES = pd.date_range('2021-03-10 15:00', '2021-03-10 20:00', freq='1H')\n",
    "DATES = pd.date_range('2021-03-13 00:00', '2021-03-14 20:00', freq='1H')"
   ]
  },
  {
   "cell_type": "code",
   "execution_count": null,
   "id": "84485971-96ff-4ea1-8b4b-25d4cf893348",
   "metadata": {},
   "outputs": [],
   "source": [
    "# Create zarr filename prefix\n",
    "of_name = DATES[0].strftime(\"%y-%m-%d-%Hz\") + '_to_' + DATES[-1].strftime(\"%y-%m-%d-%Hz\")"
   ]
  },
  {
   "cell_type": "code",
   "execution_count": null,
   "id": "5906ac09-9869-4c87-bb92-de48059f4254",
   "metadata": {},
   "outputs": [],
   "source": [
    "# Instantiate herbie classes\n",
    "H = FastHerbie(DATES, model=\"hrrr\", product=\"sfc\", save_dir='/Users/pres026/Research/Datasets/hrrr_data', fxx=[1])\n",
    "Hnat = FastHerbie(DATES, model=\"hrrr\", product=\"nat\", save_dir='/Users/pres026/Research/Datasets/hrrr_data', fxx=[1])"
   ]
  },
  {
   "cell_type": "code",
   "execution_count": null,
   "id": "9b760f62-2aa7-4ccf-860f-a084eb2c1caa",
   "metadata": {},
   "outputs": [],
   "source": [
    "# Define surface variables to be read and download them if needed\n",
    "surface_name = {} \n",
    "surface_name['VIL'] = \"VIL\"\n",
    "surface_name['SST'] = \":TMP:surface\"  \n",
    "surface_name['T2m'] =\"TMP:2 m\"\n",
    "surface_name['QV2m'] =\"SPFH:2 m\"\n",
    "surface_name['U80'] = \"UGRD:80 m\"\n",
    "surface_name['V80'] = \"VGRD:80 m\"\n",
    "surface_name['U10'] = \"UGRD:10 m\"\n",
    "surface_name['V10'] = \"VGRD:10 m\"\n",
    "surface_name['PSFC'] = \"PRES:surface\"\n",
    "surface_name['LHTFL'] = \"LHTFL:surface\"\n",
    "surface_name['SHTFL'] = \"SHTFL:surface\"\n",
    "surface_name['DSWRF'] = \"DSWRF:surface\"\n",
    "surface_name['LCDC'] = \"LCDC\"\n",
    "surface_name['WIND'] = \"WIND\"\n",
    "surface_name['HPBL'] = \"HPBL\"\n",
    "surface_name['LAND'] = \"LAND\"\n",
    "surface_name['DLWRF'] = \"DLWRF:surface\"\n",
    "for name, regex in tqdm.tqdm(surface_name.items()):\n",
    "    H.download(regex)\n",
    "    "
   ]
  },
  {
   "cell_type": "code",
   "execution_count": null,
   "id": "b407ef36-7d13-42b0-b0a0-ea43dc4117dc",
   "metadata": {},
   "outputs": [],
   "source": [
    "# Convert downloaded grib2 files to zarr\n",
    "for name, regex in tqdm.tqdm(surface_name.items()):\n",
    "    with io.capture_output() as captured:\n",
    "        ds = H.xarray(regex, max_threads=1)\n",
    "    ds.to_zarr(of_name + '_surface.zarr', mode='a')\n",
    "    ds.close()"
   ]
  },
  {
   "cell_type": "code",
   "execution_count": null,
   "id": "4045da95-d5ad-4bdd-a093-0d548d078074",
   "metadata": {},
   "outputs": [],
   "source": [
    "# Define native model level fields to be downloaded\n",
    "level_name = {} \n",
    "level_name[\"U\"] = \":(?:U)GRD:[0-9]+ hybrid\"\n",
    "level_name[\"V\"] = \":(?:V)GRD:[0-9]+ hybrid\"\n",
    "level_name[\"P\"] = \":(?:PRES):[0-9]+ hybrid\"\n",
    "level_name[\"T\"] = \":(?:TMP):[0-9]+ hybrid\"\n",
    "level_name[\"QV\"] = \":(?:SPFH):[0-9]+ hybrid\"\n",
    "level_name[\"QC\"] = \":(?:CLMR):[0-9]+ hybrid\"\n",
    "level_name[\"QI\"] = \":(?:CIMIXR):[0-9]+ hybrid\"\n",
    "level_name[\"Z\"] =\":(?:HGT:)[0-9]+ hybrid\"\n",
    "\n",
    "for name, regex in tqdm.tqdm(level_name.items()):\n",
    "    with io.capture_output() as captured:\n",
    "            Hnat.xarray(regex, max_threads=1).to_zarr(of_name + '_levels.zarr', mode='a')"
   ]
  },
  {
   "cell_type": "code",
   "execution_count": null,
   "id": "6f1602cf-fc6d-4536-b01b-0d7b68cba1a1",
   "metadata": {},
   "outputs": [],
   "source": []
  },
  {
   "cell_type": "code",
   "execution_count": null,
   "id": "3ecf9033-0c56-4ec3-87b3-f05013b7d08b",
   "metadata": {},
   "outputs": [],
   "source": []
  }
 ],
 "metadata": {
  "kernelspec": {
   "display_name": "Python 3 (ipykernel)",
   "language": "python",
   "name": "python3"
  },
  "language_info": {
   "codemirror_mode": {
    "name": "ipython",
    "version": 3
   },
   "file_extension": ".py",
   "mimetype": "text/x-python",
   "name": "python",
   "nbconvert_exporter": "python",
   "pygments_lexer": "ipython3",
   "version": "3.9.16"
  }
 },
 "nbformat": 4,
 "nbformat_minor": 5
}
